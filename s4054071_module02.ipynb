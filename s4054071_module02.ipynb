{
 "cells": [
  {
   "cell_type": "markdown",
   "metadata": {},
   "source": [
    "<center>\n",
    "    \n",
    "# COSC3056 Programming Studio 1 Portfolio <a id='top'></a>\n",
    "# Module 2: Database Storage and Retrieval\n",
    "    \n",
    "</center>"
   ]
  },
  {
   "cell_type": "markdown",
   "metadata": {
    "tags": [
     "q0;shorttext;0"
    ]
   },
   "source": [
    "This portfolio is created by\n",
    "\n",
    "| Name | *TRAN HOANG NGUYEN* |\n",
    "|---|---|\n",
    "| Student Id | *S4054071* |\n",
    "| Semester | Semester 3 2023 |"
   ]
  },
  {
   "cell_type": "markdown",
   "metadata": {},
   "source": [
    "### Declaration and Statement of Authorship\n",
    "\n",
    "When you submit your work electronically for studio components, you must agree to the [RMIT assessment declaration](https://www.rmit.edu.au/students/my-course/assessment-results/assessment) below.\n",
    "\n",
    "1. I/we have not impersonated, or allowed myself to be impersonated by, any person for the purposes of this assessment.\n",
    "2. This assessment is my/our original work and no part of it has been copied from any other source except where due acknowledgement\n",
    "is made.\n",
    "3. No part of this assessment has been written for me/us by any other person except where such collaboration has been authorised\n",
    "by the lecturer/teacher concerned.\n",
    "4. Where this work is being submitted for individual assessment, I declare that it is my original work and that no part has been contributed\n",
    "by, produced by or in conjunction with another student.\n",
    "5. I/we give permission for my assessment response to be reproduced, communicated compared and archived for the purposes\n",
    "of detecting plagiarism.\n",
    "6. I/we give permission for a copy of my assessment to be retained by the university for review and comparison, including review by external examiners.\n",
    "7. I/we understand that:\n",
    "    - Plagiarism is the presentation of the work, idea or creation of another person as though it is your own. It is a form of cheating and is a very serious academic offence that may lead to exclusion from the University. Plagiarised material can be drawn from, and presented in, written, graphic and visual form, including electronic data and oral presentations. Plagiarism occurs when the origin of the material used is not appropriately cited.\n",
    "    - Plagiarism includes the act of assisting or allowing another person to plagiarise or to copy my work.\n",
    "    \n",
    "    \n",
    "I/we agree and acknowledge that:\n",
    "1. I/we have read and understood the Declaration and Statement of Authorship above.\n",
    "2. If I/we do not agree to the Declaration and Statement of Authorship in this context and a signature is not included below, the assessment outcome is not valid for assessment purposes and will not be included in my final result for this course.\n",
    "\n",
    "Visit the student essentials Academic Integrity page for more information on [academic integrity at RMIT](https://www.rmit.edu.au/students/my-course/assessment-results/academic-integrity), including your responsibilities,\n",
    "breaches and penalties for academic misconduct.\n",
    "\n",
    "\n",
    "### Student Signature\n",
    "\"_I/we declare that I/we have read and understood the above Declaration and Statement of Authorship._\"\n",
    "\n",
    "You must write your full name and student ID in the table in the markdown cell at the top of this portfolio.<br>\n",
    "**Failure to do so may result in a grade penalty or a grade of zero.**"
   ]
  },
  {
   "cell_type": "markdown",
   "metadata": {},
   "source": [
    "<style>\n",
    "blockquote {\n",
    "  border: 3px dashed #00DCB4;\n",
    "  padding: 10px;\n",
    "}\n",
    "</style>\n",
    "\n",
    "> ## Instructions & Information\n",
    "> This notebook template has been provided to get you started on your portolfio. It is also structured for the automated marking tool SageGrader.\n",
    "> Therefore, we require that you use and edit the notebook correctly.\n",
    "> \n",
    "> ### How to use this Notebook for your Portfolio\n",
    "> To use your notebook, we kindly ask that:\n",
    "> 1. Place your answer to the question in the **existing** answer block, by double-clicking on the block you wish to edit.\n",
    "> 1. You **must not** delete any existing cells in this notebook and you **must not** modify any existing cell tags. If you accidentally delete a cell, you will need to ``undo'' the change, such using the  \"Edit → Undo\" VSCode menu option.\n",
    "> 1. In general, answer cells will have denoted placeholder content with dummy values, such as comments like *`my answer'*.\n",
    "> 1. You **must not** change any text in an existing cell that is **outside** of block to place your answers.\n",
    "> 1. To add images to this notebook you **must embedd the image** into the notebook. To do this:\n",
    ">     1. Find the image on your computer (Windows: File Explorer, Mac: Finder). Note the image can't have spaces in the filename\n",
    ">     1. \"Copy\" the image (Right-click on the image → Copy)\n",
    ">     1. \"Paste\" the image into the cell below (Double click to edit the cell → Right-click → Paste)\n",
    ">     1. If this is done correctly, you should see something of the form ``![image-name.png](attachment:image-name.png)``\n",
    ">     1. Please make sure to press the tick '✔️' on the cell containing the image to ensure the attachment is added\n",
    "> 1. Please see Canvas for additional assessment instructions. \n",
    ">\n",
    "> ### How to use Markdown syntax\n",
    "> This notebook uses the markdown syntax for formatting. For help on using Markdown, IBM has a good [Markdown Cheat-sheet](https://www.ibm.com/docs/en/watson-studio-local/1.2.3?topic=notebooks-markdown-jupyter-cheatsheet)."
   ]
  },
  {
   "cell_type": "markdown",
   "metadata": {},
   "source": [
    "<style>\n",
    "h2 {\n",
    "   text-align: center;\n",
    "}\n",
    "hr {\n",
    "  border: none;\n",
    "  border-top: 6px ridge #b678f4;\n",
    "}\n",
    "</style>\n",
    "___\n",
    "\n",
    "## Studio Class 5: Relational Database Management Systems  <a id=\"q5\"></a>\n",
    "\n",
    "### Preparation Activities"
   ]
  },
  {
   "cell_type": "markdown",
   "metadata": {},
   "source": [
    "### **Studio Class (SC) 5, Question 1:** <a id=\"q5a\"></a>\n",
    "\n",
    "What are the 7 disadvantages of using a spreadsheet to store data?"
   ]
  },
  {
   "cell_type": "markdown",
   "metadata": {
    "tags": [
     "q5a;longtext;1"
    ]
   },
   "source": [
    "| Number | Disadvantages|\n",
    "|-------|---------------|\n",
    "| 1.    |*My answer* |\n",
    "| 2.    |*My answer* |\n",
    "| 3.    |*My answer* |\n",
    "| 4.    |*My answer* |\n",
    "| 5.    |*My answer* |\n",
    "| 6.    |*My answer* |\n",
    "| 7.    |*My answer* |"
   ]
  },
  {
   "cell_type": "markdown",
   "metadata": {},
   "source": [
    "### **SC 5, Question 2:** <a id=\"q5b\"></a>\n",
    "\n",
    "What are the properties (or rules) that a Relation in a DBMS must follow?"
   ]
  },
  {
   "cell_type": "markdown",
   "metadata": {
    "tags": [
     "q5b;longtext;1"
    ]
   },
   "source": [
    "*My Answer*"
   ]
  },
  {
   "cell_type": "markdown",
   "metadata": {},
   "source": [
    "### **SC 5, Question 3:** <a id=\"q5c\"></a>\n",
    "\n",
    "Create a diagram to represent the Database Development Lifecycle."
   ]
  },
  {
   "cell_type": "markdown",
   "metadata": {
    "tags": [
     "q5c;img;1"
    ]
   },
   "source": [
    "*My Answer*"
   ]
  },
  {
   "cell_type": "markdown",
   "metadata": {},
   "source": [
    "### **SC 5, Question 4:** <a id=\"q5d\"></a>\n",
    "\n",
    "How does this Database Development Lifecycle compare to the User-center process?"
   ]
  },
  {
   "cell_type": "markdown",
   "metadata": {
    "tags": [
     "q5d;longtext;1"
    ]
   },
   "source": [
    "*My Answer*"
   ]
  },
  {
   "cell_type": "markdown",
   "metadata": {},
   "source": [
    "### **SC 5, Question 5:** <a id=\"q5e\"></a>\n",
    "\n",
    "In your own words (not copy-and-paste), describe the purpose of the following values/integrity constraints:"
   ]
  },
  {
   "cell_type": "markdown",
   "metadata": {
    "tags": [
     "q5e;longtext;1"
    ]
   },
   "source": [
    "| Values/Constraints | Description|\n",
    "|-------|---------------|\n",
    "| Null    |It represents an unknown attribute at this time or an unavailable value.|\n",
    "| Entity Integrity    | It guarantees that every row in a table is uniquely identified by its primary key, and the primary key values are both unique and non-null. |\n",
    "| Relational Integrity    |It ensures the accurate maintenance of relationships between tables, where foreign key values in one table correspond to valid primary key values in another table or are null. |"
   ]
  },
  {
   "cell_type": "markdown",
   "metadata": {},
   "source": [
    "### Studio Class Work"
   ]
  },
  {
   "cell_type": "markdown",
   "metadata": {},
   "source": [
    "### **SC 5, Question 6:** <a id=\"q5f\"></a>\n",
    "\n",
    "How many records are there in each of the tables in the world database?"
   ]
  },
  {
   "cell_type": "markdown",
   "metadata": {
    "tags": [
     "q5f;longtext;1"
    ]
   },
   "source": [
    "| Tables | Records|\n",
    "|-------|---------------|\n",
    "| City    | 4079 |\n",
    "| Country    | 239 |\n",
    "| CountryLanguage    | 984 |"
   ]
  },
  {
   "cell_type": "markdown",
   "metadata": {},
   "source": [
    "### **SC 5, Question 7:** <a id=\"q5g\"></a>\n",
    "\n",
    "Describe the structure of an INSERT statement"
   ]
  },
  {
   "cell_type": "markdown",
   "metadata": {
    "tags": [
     "q5g;longtext;1"
    ]
   },
   "source": [
    "***Answer:*** <br>\n",
    "This statement in SQL is used to insert a new record into the database. <br>\n",
    "*Structure*: INSERT INTO table_name VALUES (value1, value2, value3,....) "
   ]
  },
  {
   "cell_type": "markdown",
   "metadata": {},
   "source": [
    "### **SC 5, Question 8:** <a id=\"q5h\"></a>\n",
    "\n",
    "In Activity 2, Step 4:\n",
    "1. Were you able to enter the third record?\n",
    "1. Should you have been able to enter the third record?\n",
    "1. What type of integrity constraint does the record violate?"
   ]
  },
  {
   "cell_type": "markdown",
   "metadata": {
    "tags": [
     "q5h;longtext;1"
    ]
   },
   "source": [
    "| Questions | Answers|\n",
    "|-------|---------------|\n",
    "| 1.     | Yes, I were. |\n",
    "| 2.     | I think I should not have been able to enter. |\n",
    "| 3.     | Entity Integrity |"
   ]
  },
  {
   "cell_type": "markdown",
   "metadata": {},
   "source": [
    "### **SC 5, Question 9:** <a id=\"q5i\"></a>\n",
    "\n",
    "In Activity 2, Step 5:\n",
    "1. Were you able to enter the 'Di Hunter' record?\n",
    "1. Are any constraints violated by the 'Di Hunter' record?"
   ]
  },
  {
   "cell_type": "markdown",
   "metadata": {
    "tags": [
     "q5i;longtext;1"
    ]
   },
   "source": [
    "| Questions | Answers|\n",
    "|-------|---------------|\n",
    "| 1.     |Yes, I were. |\n",
    "| 2.     |*My answer* |"
   ]
  },
  {
   "cell_type": "markdown",
   "metadata": {},
   "source": [
    "### **SC 5, Question 10:** <a id=\"q5j\"></a>\n",
    "\n",
    "In Activity 2, Step 5:\n",
    "1. What do the group of 3 records represent in terms of the overall database management system?\n",
    "1. Were you able to enter the records?\n",
    "1. Are any constraints violated by the records?"
   ]
  },
  {
   "cell_type": "markdown",
   "metadata": {
    "tags": [
     "q5j;longtext;1"
    ]
   },
   "source": [
    "| Questions | Answers|\n",
    "|-------|---------------|\n",
    "| 1.     |*My answer* |\n",
    "| 2.     |*My answer* |\n",
    "| 3.     |*My answer* |"
   ]
  },
  {
   "cell_type": "markdown",
   "metadata": {},
   "source": [
    "### **SC 5, Question 11:** <a id=\"q5k\"></a>\n",
    "\n",
    "Place your answers to Activity 3 questions below."
   ]
  },
  {
   "cell_type": "markdown",
   "metadata": {
    "tags": [
     "q5k;longtext;1"
    ]
   },
   "source": [
    "***Answer:***\n",
    "1. I could insert it into the Customer Table.\n",
    "2. I could not insert it into the table because of the Entity Integrity.\n",
    "3. I could not insert it into the table because of the Entity Integrity.\n",
    "4. I could not insert the 2nd and 3rd line into the table because of the Referential Integrity.\n",
    "\n"
   ]
  },
  {
   "cell_type": "markdown",
   "metadata": {},
   "source": [
    "### **SC 5, Question 12:** <a id=\"q5l\"></a>\n",
    "\n",
    "Place your answers to Activity 4 questions below."
   ]
  },
  {
   "cell_type": "markdown",
   "metadata": {
    "tags": [
     "q5l;longtext;1"
    ]
   },
   "source": [
    "*My Answer*"
   ]
  },
  {
   "cell_type": "markdown",
   "metadata": {},
   "source": [
    "### **SC 5, Question 13:** <a id=\"q5m\"></a>\n",
    "\n",
    "Your CREATE TABLE statements here from Activity 5."
   ]
  },
  {
   "cell_type": "markdown",
   "metadata": {
    "tags": [
     "q5m;longtext;1"
    ]
   },
   "source": [
    "*My Answer*"
   ]
  },
  {
   "cell_type": "markdown",
   "metadata": {},
   "source": [
    "<style>\n",
    "h2 {\n",
    "   text-align: center;\n",
    "}\n",
    "hr {\n",
    "  border: none;\n",
    "  border-top: 6px ridge #b678f4;\n",
    "}\n",
    "</style>\n",
    "___\n",
    "\n",
    "## Studio Class 6: Entity Relationship Modelling  <a id=\"q6\"></a>\n",
    "\n",
    "### Preparation Activities"
   ]
  },
  {
   "cell_type": "markdown",
   "metadata": {},
   "source": [
    "### **SC 6, Question 1:** <a id=\"q6a\"></a>\n",
    "\n",
    "Describe in your own words the following concepts:"
   ]
  },
  {
   "cell_type": "markdown",
   "metadata": {
    "tags": [
     "q6a;longtext;1"
    ]
   },
   "source": [
    "| Concepts | Answers|\n",
    "|-------|---------------|\n",
    "| Strong Entities     |*My answer* |\n",
    "| Weak Entities     |*My answer* |"
   ]
  },
  {
   "cell_type": "markdown",
   "metadata": {},
   "source": [
    "### **SC 6, Question 2:** <a id=\"q6b\"></a>\n",
    "\n",
    "Describe in your own words the following concepts:"
   ]
  },
  {
   "cell_type": "markdown",
   "metadata": {
    "tags": [
     "q6b;longtext;1"
    ]
   },
   "source": [
    "| Concepts | Answers|\n",
    "|-------|---------------|\n",
    "| Simple Attributes     |*My answer* |\n",
    "| Composite Attributes     |*My answer* |\n",
    "| Multi-valued Attributes     |*My answer* |\n",
    "| Relationship Attributes     |*My answer* |"
   ]
  },
  {
   "cell_type": "markdown",
   "metadata": {},
   "source": [
    "### **SC 6, Question 3:** <a id=\"q6c\"></a>\n",
    "\n",
    "Describe in your own words the following concepts:"
   ]
  },
  {
   "cell_type": "markdown",
   "metadata": {
    "tags": [
     "q6c;longtext;1"
    ]
   },
   "source": [
    "| Concepts | Answers|\n",
    "|-------|---------------|\n",
    "| Cardinality     |*My answer* |\n",
    "| Participation     |*My answer* |"
   ]
  },
  {
   "cell_type": "markdown",
   "metadata": {},
   "source": [
    "### **SC 6, Question 4:** <a id=\"q6d\"></a>\n",
    "\n",
    "Your ER Diagram for the extending the Company-Department Model"
   ]
  },
  {
   "cell_type": "markdown",
   "metadata": {
    "tags": [
     "q6d;img;1"
    ]
   },
   "source": [
    "*My Answer*"
   ]
  },
  {
   "cell_type": "markdown",
   "metadata": {},
   "source": [
    "### **SC 6, Question 5:** <a id=\"q6e\"></a>\n",
    "\n",
    "Your ER Diagram for the World Database"
   ]
  },
  {
   "cell_type": "markdown",
   "metadata": {
    "tags": [
     "q6e;img;1"
    ]
   },
   "source": [
    "*My Answer*"
   ]
  },
  {
   "cell_type": "markdown",
   "metadata": {},
   "source": [
    "## Studio Class Work"
   ]
  },
  {
   "cell_type": "markdown",
   "metadata": {},
   "source": [
    "### **SC 6, Question 6:** <a id=\"q6f\"></a>\n",
    "\n",
    "Class Activity 1\n",
    "\n",
    "Learn how to build an Entity-Relationship Model and apply correct cardinality and participation\n",
    "\n",
    "Insert your ERD for Task 1 (In Class)"
   ]
  },
  {
   "cell_type": "markdown",
   "metadata": {
    "tags": [
     "q6f;img;1"
    ]
   },
   "source": [
    "*My Answer*"
   ]
  },
  {
   "cell_type": "markdown",
   "metadata": {
    "tags": []
   },
   "source": [
    "### **SC 6, Question 7:** <a id=\"q6g\"></a>\n",
    "\n",
    "Class Activity 1\n",
    "\n",
    "Learn how to build an Entity-Relationship Model and apply correct cardinality and participation\n",
    "\n",
    "Insert your ERD for Task 3 (Your Own Practice)"
   ]
  },
  {
   "cell_type": "markdown",
   "metadata": {
    "tags": [
     "q6g;img;1"
    ]
   },
   "source": [
    "*My Answer*"
   ]
  },
  {
   "cell_type": "markdown",
   "metadata": {},
   "source": [
    "### **SC 6, Question 8:** <a id=\"q6h\"></a>\n",
    "\n",
    "Class Activity 3\n",
    "\n",
    "Apply design choices while building an entity-relationship model\n",
    "\n",
    "Answer the following:"
   ]
  },
  {
   "cell_type": "markdown",
   "metadata": {
    "tags": [
     "q6h;longtext;1"
    ]
   },
   "source": [
    "| Concepts |\n",
    "|-------|\n",
    "| Identified business rules     |\n",
    "| *My answer* |\n",
    "| Any weak entities     |\n",
    "| *My answer* |\n",
    "| What contraints are present from any weak entities?     |\n",
    "| *My answer* |\n",
    "| List and justify the multiplicities of each relationship.     |\n",
    "| *My answer* |\n",
    "| What shortcommings are present in this model?     |\n",
    "| *My answer* |\n",
    "| How would you change the model to deal with these shortcomings?     |\n",
    "| *My answer* |"
   ]
  },
  {
   "cell_type": "markdown",
   "metadata": {},
   "source": [
    "### **SC 6, Question 9:** <a id=\"q6i\"></a>\n",
    "\n",
    "Class Activity 3\n",
    "\n",
    "Apply design choices while building an entity-relationship model\n",
    "\n",
    "Insert your ERD for Task 3"
   ]
  },
  {
   "cell_type": "markdown",
   "metadata": {
    "tags": [
     "q6i;img;1"
    ]
   },
   "source": [
    "*My Answer*"
   ]
  },
  {
   "cell_type": "markdown",
   "metadata": {},
   "source": [
    "### **SC 6, Question 10:** <a id=\"q6j\"></a>\n",
    "\n",
    "Class Activity 4\n",
    "\n",
    "Mapping ER model to Relational Database Model\n",
    "\n",
    "Insert your relational database schemas, including appropriate annotations for primary and foreign keys"
   ]
  },
  {
   "cell_type": "markdown",
   "metadata": {
    "tags": [
     "q6j;img;1"
    ]
   },
   "source": [
    "*My Answer*"
   ]
  },
  {
   "cell_type": "markdown",
   "metadata": {},
   "source": [
    "<style>\n",
    "h2 {\n",
    "   text-align: center;\n",
    "}\n",
    "hr {\n",
    "  border: none;\n",
    "  border-top: 6px ridge #b678f4;\n",
    "}\n",
    "</style>\n",
    "___\n",
    "\n",
    "## Studio Class 7: SQL Part I\n",
    "\n",
    "### Preparation Activities"
   ]
  },
  {
   "cell_type": "markdown",
   "metadata": {},
   "source": [
    "### **SC 7, Question 1:** <a id=\"q7a\"></a>\n",
    "\n",
    "Explain the purpose of the named elements a, b & c in the below SQL query.\n",
    "\n",
    "SELECT &lt;a> \n",
    "\n",
    "FROM &lt;b>\n",
    "\n",
    "WHERE &lt;c>\n",
    "\n",
    ";"
   ]
  },
  {
   "cell_type": "markdown",
   "metadata": {
    "tags": [
     "q7a;longtext;1"
    ]
   },
   "source": [
    "| Concepts | Answers|\n",
    "|-------|---------------|\n",
    "| &lt;a>:     |*My answer* |\n",
    "| &lt;b>:     |*My answer* |\n",
    "| &lt;c>:     |*My answer* |"
   ]
  },
  {
   "cell_type": "markdown",
   "metadata": {},
   "source": [
    "### **SC 7, Question 2:** <a id=\"q7b\"></a>\n",
    "\n",
    "Explain how the returned rows of a query can be ordered, and provide an example."
   ]
  },
  {
   "cell_type": "markdown",
   "metadata": {
    "tags": [
     "q7b;longtext;1"
    ]
   },
   "source": [
    "*My Answer*"
   ]
  },
  {
   "cell_type": "markdown",
   "metadata": {},
   "source": [
    "### **SC 7, Question 3:** <a id=\"q7c\"></a>\n",
    "\n",
    "Give 3 examples of SQL functions that can be used to aggregate data, and briefly explain what they do."
   ]
  },
  {
   "cell_type": "markdown",
   "metadata": {
    "tags": [
     "q7c;longtext;1"
    ]
   },
   "source": [
    "| Aggregate function | Explanation|\n",
    "|-------|---------------|\n",
    "| *My answer*     |*My answer* |\n",
    "| *My answer*     |*My answer* |\n",
    "| *My answer*    |*My answer* |"
   ]
  },
  {
   "cell_type": "markdown",
   "metadata": {},
   "source": [
    "## Studio Class Work"
   ]
  },
  {
   "cell_type": "markdown",
   "metadata": {},
   "source": [
    "### **SC 7, Question 4:** <a id=\"q7d\"></a>\n",
    "\n",
    "Part A Exercises"
   ]
  },
  {
   "cell_type": "markdown",
   "metadata": {
    "tags": [
     "q7d;longtext;1"
    ]
   },
   "source": [
    "| Question | Explanation|\n",
    "|-------|---------------|\n",
    "| Question 1:     |*My answer* |\n",
    "| Question 2:     |*My answer* |\n",
    "| Question 3:    |*My answer* |\n",
    "| Question 4:    |*My answer* |\n",
    "| Question 5:    |*My answer* |\n",
    "| Question 6:    |*My answer* |\n",
    "| Question 7:    |*My answer* |\n",
    "| Question 8:    |*My answer* |\n",
    "| Question 9:    |*My answer* |"
   ]
  },
  {
   "cell_type": "markdown",
   "metadata": {},
   "source": [
    "### **SC 7, Question 5:** <a id=\"q7e\"></a>\n",
    "\n",
    "Part B Exercises"
   ]
  },
  {
   "cell_type": "markdown",
   "metadata": {
    "tags": [
     "q7e;longtext;1"
    ]
   },
   "source": [
    "| Question | Explanation|\n",
    "|-------|---------------|\n",
    "| Question 10:     |*My answer* |\n",
    "| Question 11:     |*My answer* |\n",
    "| Question 12:    |*My answer* |\n",
    "| Question 13:    |*My answer* |\n",
    "| Question 14:    |*My answer* |\n",
    "| Question 15:    |*My answer* |\n",
    "| Question 16:    |*My answer* |"
   ]
  },
  {
   "cell_type": "markdown",
   "metadata": {},
   "source": [
    "<style>\n",
    "h2 {\n",
    "   text-align: center;\n",
    "}\n",
    "hr {\n",
    "  border: none;\n",
    "  border-top: 6px ridge #b678f4;\n",
    "}\n",
    "</style>\n",
    "___\n",
    "\n",
    "## Studio Class 8: SQL Part II\n",
    "\n",
    "### Preparation Activities"
   ]
  },
  {
   "cell_type": "markdown",
   "metadata": {},
   "source": [
    "### **SC 8, Question 1:** <a id=\"q8a\"></a>\n",
    "\n",
    "Explain what the SQL JOIN operator does."
   ]
  },
  {
   "cell_type": "markdown",
   "metadata": {
    "tags": [
     "q8a;longtext;1"
    ]
   },
   "source": [
    "*My Answer*"
   ]
  },
  {
   "cell_type": "markdown",
   "metadata": {},
   "source": [
    "### **SC 8, Question 2:** <a id=\"q8b\"></a>\n",
    "\n",
    "Describe the difference(s) between an INNER JOIN, LEFT JOIN and RIGHT JOIN. \n",
    "\n",
    "You should provide your own diagram(s) as part of your explanation."
   ]
  },
  {
   "cell_type": "markdown",
   "metadata": {
    "tags": [
     "q8b;longtext;1"
    ]
   },
   "source": [
    "*My Answer*"
   ]
  },
  {
   "cell_type": "markdown",
   "metadata": {},
   "source": [
    "## Studio Class Work"
   ]
  },
  {
   "cell_type": "markdown",
   "metadata": {},
   "source": [
    "### **SC 8, Question 3:** <a id=\"q8c\"></a>\n",
    "\n",
    "Part A Exercises"
   ]
  },
  {
   "cell_type": "markdown",
   "metadata": {
    "tags": [
     "q8c;longtext;1"
    ]
   },
   "source": [
    "| Question | Explanation|\n",
    "|-------|---------------|\n",
    "| Question 1:     |*My answer* |\n",
    "| Question 2:     |*My answer* |\n",
    "| Question 3:    |*My answer* |\n",
    "| Question 4:    |*My answer* |\n",
    "| Question 5:    |*My answer* |\n",
    "| Question 6:    |*My answer* |\n",
    "| Question 7:    |*My answer* |\n",
    "| Question 8:    |*My answer* |"
   ]
  },
  {
   "cell_type": "markdown",
   "metadata": {},
   "source": [
    "### **SC 8, Question 4:** <a id=\"q8d\"></a>\n",
    "\n",
    "Part B Exercises"
   ]
  },
  {
   "cell_type": "markdown",
   "metadata": {
    "tags": [
     "q8d;longtext;1"
    ]
   },
   "source": [
    "| Question | Explanation|\n",
    "|-------|---------------|\n",
    "| Question 9:     |*My answer* |\n",
    "| Question 10:     |*My answer* |\n",
    "| Question 11:    |*My answer* |\n",
    "| Question 12:    |*My answer* |\n",
    "| Question 13:    |*My answer* |\n",
    "| Question 14:    |*My answer* |"
   ]
  }
 ],
 "metadata": {
  "celltoolbar": "Tags",
  "kernelspec": {
   "display_name": "Python 3 (ipykernel)",
   "language": "python",
   "name": "python3"
  },
  "language_info": {
   "codemirror_mode": {
    "name": "ipython",
    "version": 3
   },
   "file_extension": ".py",
   "mimetype": "text/x-python",
   "name": "python",
   "nbconvert_exporter": "python",
   "pygments_lexer": "ipython3",
   "version": "3.11.2"
  },
  "vscode": {
   "interpreter": {
    "hash": "054c096e4d4b57417bb781656d4f5218b0e3c2d49c7047d1ff7347fb636be8e8"
   }
  }
 },
 "nbformat": 4,
 "nbformat_minor": 2
}
